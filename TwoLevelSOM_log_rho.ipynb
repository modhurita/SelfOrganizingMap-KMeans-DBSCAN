{
 "cells": [
  {
   "cell_type": "code",
   "execution_count": 1,
   "id": "e50d75eb",
   "metadata": {},
   "outputs": [
    {
     "data": {
      "text/html": [
       "<script>jQuery(function() {if (jQuery(\"body.notebook_app\").length == 0) { jQuery(\".input_area\").toggle(); jQuery(\".prompt\").toggle();}});</script>"
      ]
     },
     "metadata": {},
     "output_type": "display_data"
    },
    {
     "data": {
      "text/html": [
       "<button onclick=\"jQuery('.input_area').toggle(); jQuery('.prompt').toggle();\">Toggle code</button>"
      ]
     },
     "metadata": {},
     "output_type": "display_data"
    }
   ],
   "source": [
    "from IPython.display import display\n",
    "from IPython.display import HTML\n",
    "import IPython.core.display as di # Example: di.display_html('<h3>%s:</h3>' % str, raw=True)\n",
    "\n",
    "# This line will hide code by default when the notebook is exported as HTML\n",
    "di.display_html('<script>jQuery(function() {if (jQuery(\"body.notebook_app\").length == 0) { jQuery(\".input_area\").toggle(); jQuery(\".prompt\").toggle();}});</script>', raw=True)\n",
    "\n",
    "# This line will add a button to toggle visibility of code blocks, for use with the HTML export version\n",
    "di.display_html('''<button onclick=\"jQuery('.input_area').toggle(); jQuery('.prompt').toggle();\">Toggle code</button>''', raw=True)"
   ]
  },
  {
   "cell_type": "code",
   "execution_count": 2,
   "id": "d4017b89",
   "metadata": {},
   "outputs": [
    {
     "data": {
      "application/javascript": [
       "IPython.OutputArea.prototype._should_scroll = function(lines) {\n",
       "    return false;\n",
       "}\n"
      ],
      "text/plain": [
       "<IPython.core.display.Javascript object>"
      ]
     },
     "metadata": {},
     "output_type": "display_data"
    }
   ],
   "source": [
    "%%javascript\n",
    "IPython.OutputArea.prototype._should_scroll = function(lines) {\n",
    "    return false;\n",
    "}"
   ]
  },
  {
   "cell_type": "markdown",
   "id": "f7b58f32",
   "metadata": {},
   "source": [
    "# Step 1: Using SOM to identify low-resistivity regions\n",
    "# Step 2: Using SOM to identify spatially separated low-resistivity regions"
   ]
  },
  {
   "cell_type": "code",
   "execution_count": 3,
   "id": "e060bd58",
   "metadata": {},
   "outputs": [],
   "source": [
    "import numpy as np\n",
    "import matplotlib.pyplot as plt\n",
    "\n",
    "from resistivity_functions import *\n",
    "\n",
    "import pandas as pd\n",
    "import seaborn as sns\n",
    "\n",
    "import pickle"
   ]
  },
  {
   "cell_type": "code",
   "execution_count": 4,
   "id": "90658374",
   "metadata": {},
   "outputs": [],
   "source": [
    "datafile = '../Data/rho.txt'\n",
    "\n",
    "dataframe_original = pd.read_csv(datafile,skiprows=1,usecols=[1,2,3,4],names=['x','y','z','rho'])"
   ]
  },
  {
   "cell_type": "code",
   "execution_count": 5,
   "id": "4ce44c96",
   "metadata": {},
   "outputs": [],
   "source": [
    "dataframe_original = dataframe_original.replace(-9999.0,1e6)\n",
    "\n",
    "dataframe = np.log10(dataframe_original['rho'])"
   ]
  },
  {
   "cell_type": "code",
   "execution_count": 6,
   "id": "480be1ac",
   "metadata": {},
   "outputs": [],
   "source": [
    "with open('log_rho_binary_cluster.p', 'rb') as infile:\n",
    "    som = pickle.load(infile)"
   ]
  },
  {
   "cell_type": "code",
   "execution_count": 7,
   "id": "fbf1c2aa",
   "metadata": {},
   "outputs": [],
   "source": [
    "data = som.dataframe_to_numpy_array()\n",
    "masked_data = som.mask_data(data=data,mask_value=6)"
   ]
  },
  {
   "cell_type": "markdown",
   "id": "0dbd5570",
   "metadata": {},
   "source": [
    "## SOM 1: Identifying low-resistivity and high-resistivity regions"
   ]
  },
  {
   "cell_type": "markdown",
   "id": "96030cb5",
   "metadata": {},
   "source": [
    "### U-matrix"
   ]
  },
  {
   "cell_type": "code",
   "execution_count": 8,
   "id": "7dee3878",
   "metadata": {},
   "outputs": [
    {
     "data": {
      "image/png": "[encoded data removed]",
      "text/plain": [
       "<Figure size 432x288 with 2 Axes>"
      ]
     },
     "metadata": {
      "needs_background": "light"
     },
     "output_type": "display_data"
    }
   ],
   "source": [
    "som.display_u_matrix()"
   ]
  },
  {
   "cell_type": "code",
   "execution_count": 9,
   "id": "5ea93be8",
   "metadata": {},
   "outputs": [],
   "source": [
    "som_x_dim = 50\n",
    "som_y_dim = 70\n",
    "\n",
    "vector_length = 1"
   ]
  },
  {
   "cell_type": "code",
   "execution_count": 10,
   "id": "0682349d",
   "metadata": {},
   "outputs": [],
   "source": [
    "som_weights = som.get_weights_normalized()\n",
    "\n",
    "som_weights_flattened = np.zeros((som_x_dim*som_y_dim, vector_length))\n",
    "\n",
    "for i in range(som_x_dim):\n",
    "    for j in range(som_y_dim):\n",
    "        som_weights_flattened[i*som_y_dim+j,:] = som_weights[i,j]\n",
    "\n",
    "from sklearn.cluster import KMeans\n",
    "    \n",
    "clustering = KMeans(n_clusters=2,random_state=1).fit(som_weights_flattened)\n",
    "\n",
    "labels = clustering.labels_\n",
    "clusters = labels.reshape(som_x_dim,som_y_dim)"
   ]
  },
  {
   "cell_type": "markdown",
   "id": "23d6112e",
   "metadata": {},
   "source": [
    "### Clustering SOM using K-Means clustering"
   ]
  },
  {
   "cell_type": "code",
   "execution_count": 11,
   "id": "570e309d",
   "metadata": {},
   "outputs": [
    {
     "data": {
      "image/png": "[encoded data removed]",
      "text/plain": [
       "<Figure size 432x288 with 2 Axes>"
      ]
     },
     "metadata": {
      "needs_background": "light"
     },
     "output_type": "display_data"
    }
   ],
   "source": [
    "ax = sns.heatmap(clusters, square=True, cmap=\"YlGnBu\")\n",
    "ax.invert_yaxis()"
   ]
  },
  {
   "cell_type": "code",
   "execution_count": 12,
   "id": "d58f6f99",
   "metadata": {},
   "outputs": [],
   "source": [
    "normalized_data = som.normalize_data(masked_data)\n",
    "reshaped_data = normalized_data.reshape(-1,1)\n",
    "data_cluster = clustering.predict(reshaped_data)"
   ]
  },
  {
   "cell_type": "code",
   "execution_count": 13,
   "id": "183744d9",
   "metadata": {},
   "outputs": [],
   "source": [
    "dataframe_original['cluster_id'] = data_cluster"
   ]
  },
  {
   "cell_type": "code",
   "execution_count": 14,
   "id": "f9d9f1c2",
   "metadata": {},
   "outputs": [],
   "source": [
    "data = Data(dataframe=dataframe_original)"
   ]
  },
  {
   "cell_type": "markdown",
   "id": "fe0bfec9",
   "metadata": {},
   "source": [
    "### Value: z"
   ]
  },
  {
   "cell_type": "code",
   "execution_count": 15,
   "id": "4b433657",
   "metadata": {},
   "outputs": [
    {
     "data": {
      "application/vnd.jupyter.widget-view+json": {
       "model_id": "11bb37b156004a36b5da898dc33052d9",
       "version_major": 2,
       "version_minor": 0
      },
      "text/plain": [
       "interactive(children=(FloatSlider(value=-12.0, description='value', max=28.0, min=-50.0, step=2.0), Output()),…"
      ]
     },
     "metadata": {},
     "output_type": "display_data"
    }
   ],
   "source": [
    "data.display_cross_section(variable='z',quantity='cluster_id',logscale=False, vmin=0, vmax=1)"
   ]
  },
  {
   "cell_type": "markdown",
   "id": "f3e7e1de",
   "metadata": {},
   "source": [
    "### Value: x"
   ]
  },
  {
   "cell_type": "code",
   "execution_count": 16,
   "id": "fff2d1a0",
   "metadata": {},
   "outputs": [
    {
     "data": {
      "application/vnd.jupyter.widget-view+json": {
       "model_id": "1b1972d1a1764b249e9e40c4b30db5ad",
       "version_major": 2,
       "version_minor": 0
      },
      "text/plain": [
       "interactive(children=(FloatSlider(value=243050.0, description='value', max=245400.0, min=240700.0, step=50.0),…"
      ]
     },
     "metadata": {},
     "output_type": "display_data"
    }
   ],
   "source": [
    "data.display_cross_section(variable='x',quantity='cluster_id',logscale=False, vmin=0, vmax=1)"
   ]
  },
  {
   "cell_type": "markdown",
   "id": "44563210",
   "metadata": {},
   "source": [
    "### Value: y"
   ]
  },
  {
   "cell_type": "code",
   "execution_count": 17,
   "id": "ed4a3a27",
   "metadata": {},
   "outputs": [
    {
     "data": {
      "application/vnd.jupyter.widget-view+json": {
       "model_id": "7b7f547a6f09461792980efb5fd58105",
       "version_major": 2,
       "version_minor": 0
      },
      "text/plain": [
       "interactive(children=(FloatSlider(value=561250.0, description='value', max=565000.0, min=557500.0, step=50.0),…"
      ]
     },
     "metadata": {},
     "output_type": "display_data"
    }
   ],
   "source": [
    "data.display_cross_section(variable='y',quantity='cluster_id',logscale=False, vmin=0, vmax=1)"
   ]
  },
  {
   "cell_type": "code",
   "execution_count": 18,
   "id": "6e6c2f9b",
   "metadata": {},
   "outputs": [],
   "source": [
    "#data_cluster = -(data_cluster - 1)"
   ]
  },
  {
   "cell_type": "code",
   "execution_count": 19,
   "id": "7a5842a0",
   "metadata": {},
   "outputs": [],
   "source": [
    "data_cluster_resistivity = data_cluster"
   ]
  },
  {
   "cell_type": "code",
   "execution_count": 20,
   "id": "d82d0230",
   "metadata": {},
   "outputs": [],
   "source": [
    "low_resistivity_indices = np.where(data_cluster==1)"
   ]
  },
  {
   "cell_type": "code",
   "execution_count": 21,
   "id": "d40dfeb1",
   "metadata": {},
   "outputs": [],
   "source": [
    "low_resistivity_indices = np.reshape(low_resistivity_indices,-1)"
   ]
  },
  {
   "cell_type": "code",
   "execution_count": 22,
   "id": "57be119e",
   "metadata": {},
   "outputs": [],
   "source": [
    "low_resistivity_indices = np.asarray(low_resistivity_indices)"
   ]
  },
  {
   "cell_type": "code",
   "execution_count": 23,
   "id": "2c01477c",
   "metadata": {},
   "outputs": [],
   "source": [
    "list_low_resistivity_indices = low_resistivity_indices.tolist()"
   ]
  },
  {
   "cell_type": "code",
   "execution_count": 24,
   "id": "9dac093d",
   "metadata": {},
   "outputs": [],
   "source": [
    "data_size = len(list_low_resistivity_indices)"
   ]
  },
  {
   "cell_type": "code",
   "execution_count": 25,
   "id": "bfc55330",
   "metadata": {},
   "outputs": [],
   "source": [
    "#data_size"
   ]
  },
  {
   "cell_type": "code",
   "execution_count": 26,
   "id": "6d88aed7",
   "metadata": {},
   "outputs": [],
   "source": [
    "#np.size(data_cluster)"
   ]
  },
  {
   "cell_type": "markdown",
   "id": "638ac107",
   "metadata": {},
   "source": [
    "## SOM 2: Identifying spatially separated low-resistivity regions"
   ]
  },
  {
   "cell_type": "code",
   "execution_count": 27,
   "id": "d17b1dd1",
   "metadata": {},
   "outputs": [],
   "source": [
    "dataframe_coordinates = dataframe_original[['x','y','z']]"
   ]
  },
  {
   "cell_type": "code",
   "execution_count": 28,
   "id": "9e9a6cb0",
   "metadata": {},
   "outputs": [],
   "source": [
    "dataframe = dataframe_coordinates.iloc[list_low_resistivity_indices]"
   ]
  },
  {
   "cell_type": "code",
   "execution_count": 29,
   "id": "7010c21a",
   "metadata": {},
   "outputs": [],
   "source": [
    "som_x_dim = 30\n",
    "som_y_dim = 50\n",
    "\n",
    "vector_length = 3"
   ]
  },
  {
   "cell_type": "code",
   "execution_count": 30,
   "id": "16bef358",
   "metadata": {},
   "outputs": [],
   "source": [
    "som = SOM(dataframe, input_len=vector_length, som_x_dim=som_x_dim, som_y_dim=som_y_dim)"
   ]
  },
  {
   "cell_type": "code",
   "execution_count": 31,
   "id": "ef969eda",
   "metadata": {},
   "outputs": [],
   "source": [
    "som.train_som(max_iterations=data_size)"
   ]
  },
  {
   "cell_type": "markdown",
   "id": "e0f94d75",
   "metadata": {},
   "source": [
    "### U-matrix"
   ]
  },
  {
   "cell_type": "code",
   "execution_count": 32,
   "id": "9a669833",
   "metadata": {},
   "outputs": [
    {
     "data": {
      "image/png": "[encoded data removed]",
      "text/plain": [
       "<Figure size 432x288 with 2 Axes>"
      ]
     },
     "metadata": {
      "needs_background": "light"
     },
     "output_type": "display_data"
    }
   ],
   "source": [
    "som.display_u_matrix()"
   ]
  },
  {
   "cell_type": "code",
   "execution_count": 33,
   "id": "17bd570b",
   "metadata": {},
   "outputs": [],
   "source": [
    "with open('som_low_resistivity_coordinates.p', 'wb') as outfile:\n",
    "    pickle.dump(som, outfile)"
   ]
  },
  {
   "cell_type": "code",
   "execution_count": 34,
   "id": "54cb1f37",
   "metadata": {},
   "outputs": [],
   "source": [
    "som_weights = som.get_weights_normalized()"
   ]
  },
  {
   "cell_type": "code",
   "execution_count": 35,
   "id": "ed59a45e",
   "metadata": {},
   "outputs": [],
   "source": [
    "som_weights_flattened = np.zeros((som_x_dim*som_y_dim, vector_length))\n",
    "\n",
    "for i in range(som_x_dim):\n",
    "    for j in range(som_y_dim):\n",
    "        som_weights_flattened[i*som_y_dim+j,:] = som_weights[i,j]"
   ]
  },
  {
   "cell_type": "code",
   "execution_count": 36,
   "id": "eff44233",
   "metadata": {},
   "outputs": [],
   "source": [
    "from sklearn.cluster import KMeans\n",
    "    \n",
    "clustering = KMeans(n_clusters=3,random_state=1).fit(som_weights_flattened)\n",
    "\n",
    "labels = clustering.labels_\n",
    "clusters = labels.reshape(som_x_dim,som_y_dim)"
   ]
  },
  {
   "cell_type": "markdown",
   "id": "a2587a3c",
   "metadata": {},
   "source": [
    "### Clustering SOM using K-Means clustering"
   ]
  },
  {
   "cell_type": "code",
   "execution_count": 37,
   "id": "04cc7a8a",
   "metadata": {},
   "outputs": [
    {
     "data": {
      "image/png": "[encoded data removed]",
      "text/plain": [
       "<Figure size 432x288 with 2 Axes>"
      ]
     },
     "metadata": {
      "needs_background": "light"
     },
     "output_type": "display_data"
    }
   ],
   "source": [
    "ax = sns.heatmap(clusters, square=True, cmap=\"YlGnBu\")\n",
    "ax.invert_yaxis()"
   ]
  },
  {
   "cell_type": "code",
   "execution_count": 38,
   "id": "72574f04",
   "metadata": {},
   "outputs": [],
   "source": [
    "#som.display_u_matrix()"
   ]
  },
  {
   "cell_type": "code",
   "execution_count": 39,
   "id": "0821a510",
   "metadata": {},
   "outputs": [],
   "source": [
    "normalized_data = som.normalize_data(dataframe)"
   ]
  },
  {
   "cell_type": "code",
   "execution_count": 40,
   "id": "32038eb7",
   "metadata": {},
   "outputs": [],
   "source": [
    "data_cluster = clustering.predict(normalized_data)"
   ]
  },
  {
   "cell_type": "code",
   "execution_count": 41,
   "id": "91155f81",
   "metadata": {},
   "outputs": [],
   "source": [
    "#data_cluster"
   ]
  },
  {
   "cell_type": "code",
   "execution_count": 42,
   "id": "1ea71eb6",
   "metadata": {},
   "outputs": [],
   "source": [
    "data_cluster = data_cluster + 1"
   ]
  },
  {
   "cell_type": "code",
   "execution_count": 43,
   "id": "2735b415",
   "metadata": {},
   "outputs": [],
   "source": [
    "data_cluster_resistivity_position = np.zeros(len(data_cluster_resistivity),dtype=int)"
   ]
  },
  {
   "cell_type": "code",
   "execution_count": 44,
   "id": "92ca8c55",
   "metadata": {},
   "outputs": [],
   "source": [
    "data_cluster_resistivity_position[list_low_resistivity_indices] = data_cluster"
   ]
  },
  {
   "cell_type": "code",
   "execution_count": 45,
   "id": "c07ffb37",
   "metadata": {},
   "outputs": [],
   "source": [
    "#data_cluster_resistivity_position"
   ]
  },
  {
   "cell_type": "code",
   "execution_count": 46,
   "id": "8cc98362",
   "metadata": {},
   "outputs": [],
   "source": [
    "num_clusters = np.max(data_cluster_resistivity_position)"
   ]
  },
  {
   "cell_type": "code",
   "execution_count": 47,
   "id": "072c658b",
   "metadata": {},
   "outputs": [],
   "source": [
    "dataframe_original['cluster_id_resistivity_position'] = data_cluster_resistivity_position"
   ]
  },
  {
   "cell_type": "code",
   "execution_count": 48,
   "id": "46bc12ef",
   "metadata": {},
   "outputs": [],
   "source": [
    "data = Data(dataframe=dataframe_original)"
   ]
  },
  {
   "cell_type": "markdown",
   "id": "a6a3216e",
   "metadata": {},
   "source": [
    "### Value: z"
   ]
  },
  {
   "cell_type": "code",
   "execution_count": 49,
   "id": "4bb8a10c",
   "metadata": {},
   "outputs": [
    {
     "data": {
      "application/vnd.jupyter.widget-view+json": {
       "model_id": "a876fcc4678b4f5f8d9f811ab4316dae",
       "version_major": 2,
       "version_minor": 0
      },
      "text/plain": [
       "interactive(children=(FloatSlider(value=-12.0, description='value', max=28.0, min=-50.0, step=2.0), Output()),…"
      ]
     },
     "metadata": {},
     "output_type": "display_data"
    }
   ],
   "source": [
    "data.display_cross_section(variable='z',quantity='cluster_id_resistivity_position',logscale=False, vmin=0, vmax=num_clusters)"
   ]
  },
  {
   "cell_type": "markdown",
   "id": "b1fa2c67",
   "metadata": {},
   "source": [
    "### Value: x"
   ]
  },
  {
   "cell_type": "code",
   "execution_count": 50,
   "id": "6a0b08bd",
   "metadata": {},
   "outputs": [
    {
     "data": {
      "application/vnd.jupyter.widget-view+json": {
       "model_id": "d32ee60ede474a6a9112ec4724e0ce15",
       "version_major": 2,
       "version_minor": 0
      },
      "text/plain": [
       "interactive(children=(FloatSlider(value=243050.0, description='value', max=245400.0, min=240700.0, step=50.0),…"
      ]
     },
     "metadata": {},
     "output_type": "display_data"
    }
   ],
   "source": [
    "data.display_cross_section(variable='x',quantity='cluster_id_resistivity_position',logscale=False, vmin=0, vmax=num_clusters)"
   ]
  },
  {
   "cell_type": "markdown",
   "id": "b52e4a81",
   "metadata": {},
   "source": [
    "### Value: y"
   ]
  },
  {
   "cell_type": "code",
   "execution_count": 51,
   "id": "959935eb",
   "metadata": {},
   "outputs": [
    {
     "data": {
      "application/vnd.jupyter.widget-view+json": {
       "model_id": "1c2ad69743d54336bd3d0afc1d5fbe4b",
       "version_major": 2,
       "version_minor": 0
      },
      "text/plain": [
       "interactive(children=(FloatSlider(value=561250.0, description='value', max=565000.0, min=557500.0, step=50.0),…"
      ]
     },
     "metadata": {},
     "output_type": "display_data"
    }
   ],
   "source": [
    "data.display_cross_section(variable='y',quantity='cluster_id_resistivity_position',logscale=False, vmin=0, vmax=num_clusters)"
   ]
  }
 ],
 "metadata": {
  "kernelspec": {
   "display_name": "Python 3",
   "language": "python",
   "name": "python3"
  },
  "language_info": {
   "codemirror_mode": {
    "name": "ipython",
    "version": 3
   },
   "file_extension": ".py",
   "mimetype": "text/x-python",
   "name": "python",
   "nbconvert_exporter": "python",
   "pygments_lexer": "ipython3",
   "version": "3.8.8"
  }
 },
 "nbformat": 4,
 "nbformat_minor": 5
}
